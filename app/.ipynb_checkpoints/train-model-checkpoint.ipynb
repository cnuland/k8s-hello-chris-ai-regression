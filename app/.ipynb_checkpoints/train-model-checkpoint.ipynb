{
 "cells": [
  {
   "cell_type": "markdown",
   "id": "59796fa9-fb5a-44e8-8370-477ef83d1d4a",
   "metadata": {},
   "source": [
    "# Import needed packages"
   ]
  },
  {
   "cell_type": "code",
   "execution_count": null,
   "id": "dba74cf0-417a-45ef-b03c-2798a04628ff",
   "metadata": {
    "tags": []
   },
   "outputs": [],
   "source": [
    "from os.path import exists\n",
    "from pathlib import Path\n",
    "import uuid\n",
    "import random\n",
    "from ddenv import DDEnv\n",
    "from stable_baselines3 import A2C, PPO\n",
    "from stable_baselines3.common import env_checker\n",
    "from stable_baselines3.common.vec_env import DummyVecEnv, SubprocVecEnv\n",
    "from stable_baselines3.common.utils import set_random_seed\n",
    "from stable_baselines3.common.callbacks import CheckpointCallback\n",
    "from typing import Callable, Union\n",
    "from PIL import Image\n",
    "import warnings\n",
    "warnings.filterwarnings(\"ignore\")"
   ]
  },
  {
   "cell_type": "markdown",
   "id": "2ab1102f-dc8c-4f46-8e1d-681f4fdd54da",
   "metadata": {},
   "source": [
    "# Initiate the environment and add the linear degression function"
   ]
  },
  {
   "cell_type": "code",
   "execution_count": null,
   "id": "9aeb3974-129d-4cac-8102-ff5b908c5b08",
   "metadata": {
    "tags": []
   },
   "outputs": [],
   "source": [
    "\n",
    "\n",
    "def linear_schedule(initial_value: Union[float, str]) -> Callable[[float], float]:\n",
    "    \"\"\"\n",
    "    Linear learning rate schedule.\n",
    "\n",
    "    :param initial_value: (float or str)\n",
    "    :return: (function)\n",
    "    \"\"\"\n",
    "    # Force conversion to float\n",
    "    initial_value_ = float(initial_value)\n",
    "\n",
    "    def func(progress_remaining: float) -> float:\n",
    "        \"\"\"\n",
    "        Progress will decrease from 1 (beginning) to 0\n",
    "        :param progress_remaining: (float)\n",
    "        :return: (float)\n",
    "        \"\"\"\n",
    "        return progress_remaining * initial_value_\n",
    "\n",
    "    return func\n",
    "\n",
    "def make_env(rank, env_conf, seed=0):\n",
    "    \"\"\"\n",
    "    Utility function for multiprocessed env.\n",
    "    :param env_id: (str) the environment ID\n",
    "    :param num_env: (int) the number of environments you wish to have in subprocesses\n",
    "    :param seed: (int) the initial seed for RNG\n",
    "    :param rank: (int) index of the subprocess\n",
    "    \"\"\"\n",
    "    def _init():\n",
    "        env = DDEnv(env_conf)\n",
    "        env.reset(seed=(seed + rank))\n",
    "        return env\n",
    "    set_random_seed(seed)\n",
    "    return _init\n",
    "\n",
    "if __name__ == '__main__':\n",
    "\n",
    "\n",
    "    ep_length = 2048 * 24\n",
    "    sess_path = Path(f'session_{str(uuid.uuid4())[:8]}')\n",
    "\n",
    "    env_config = {\n",
    "                'headless': True, 'save_final_state': True, 'early_stop': False,\n",
    "                'action_freq': 8, 'init_state': 'ignored/dd.gb.state', 'max_steps': ep_length, \n",
    "                'print_rewards': True, 'save_video': False, 'fast_video': False, 'session_path': sess_path,\n",
    "                'gb_path': 'ignored/dd.gb', 'debug': False, 'sim_frame_dist': 2_000_000.0, \n",
    "                'use_screen_explore': True, 'extra_buttons': False\n",
    "            }\n",
    "    \n",
    "    \n",
    "    num_cpu = 10 #64 #46  # Also sets the number of episodes per training iteration\n",
    "    env = SubprocVecEnv([make_env(i, env_config) for i in range(num_cpu)])\n",
    "    \n",
    "    checkpoint_callback = CheckpointCallback(save_freq=ep_length, save_path=sess_path,\n",
    "                                     name_prefix='dd')"
   ]
  },
  {
   "cell_type": "markdown",
   "id": "6dcb6673-1fa3-483b-a2f3-af2ac2e386bf",
   "metadata": {},
   "source": [
    "# Start the training of the model"
   ]
  },
  {
   "cell_type": "code",
   "execution_count": null,
   "id": "93e921fb-e4d0-4b09-b7a7-0c21f6ca79a3",
   "metadata": {
    "tags": []
   },
   "outputs": [],
   "source": [
    "    #env_checker.check_env(env)\n",
    "    file_name = '' # Provide if needing to load a model from a checkpoint\n",
    "    \n",
    "    if exists(file_name + '.zip'):\n",
    "        print('\\nloading checkpoint')\n",
    "        model = PPO.load(file_name, env=env, device=\"cpu\", tensorboard_log=\"./double_dragon_logs/\")\n",
    "        model.n_steps = ep_length\n",
    "        model.ent_coef = 0.05\n",
    "        model.learning_rate = linear_schedule(0.005)\n",
    "        model.n_envs = num_cpu\n",
    "        model.rollout_buffer.buffer_size = ep_length\n",
    "        model.rollout_buffer.n_envs = num_cpu\n",
    "        model.verbose = 1\n",
    "        model.gamma = 0.977\n",
    "        model.batch_size = 512\n",
    "        model.rollout_buffer.reset()\n",
    "    else:\n",
    "        print(\"\\nStarting training\")\n",
    "        model = PPO('CnnPolicy', env, verbose=1,n_steps=ep_length, batch_size=512, n_epochs=1)\n",
    "    \n",
    "    model.learn(total_timesteps=(ep_length)*num_cpu*1000, callback=checkpoint_callback)"
   ]
  }
 ],
 "metadata": {
  "kernelspec": {
   "display_name": "Python 3.11",
   "language": "python",
   "name": "python3"
  },
  "language_info": {
   "codemirror_mode": {
    "name": "ipython",
    "version": 3
   },
   "file_extension": ".py",
   "mimetype": "text/x-python",
   "name": "python",
   "nbconvert_exporter": "python",
   "pygments_lexer": "ipython3",
   "version": "3.11.4"
  }
 },
 "nbformat": 4,
 "nbformat_minor": 5
}
